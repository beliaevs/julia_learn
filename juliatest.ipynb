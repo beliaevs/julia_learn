{
 "cells": [
  {
   "cell_type": "code",
   "execution_count": null,
   "id": "e2360b70",
   "metadata": {
    "scrolled": true
   },
   "outputs": [],
   "source": [
    "using PlotlyJS"
   ]
  },
  {
   "cell_type": "code",
   "execution_count": null,
   "id": "2cc5f701",
   "metadata": {},
   "outputs": [],
   "source": [
    "n = 1:100"
   ]
  },
  {
   "cell_type": "code",
   "execution_count": null,
   "id": "585cbf0b",
   "metadata": {},
   "outputs": [],
   "source": [
    "m = n.^2"
   ]
  },
  {
   "cell_type": "code",
   "execution_count": null,
   "id": "7bd58f81",
   "metadata": {},
   "outputs": [],
   "source": [
    "plot(n, m)"
   ]
  },
  {
   "cell_type": "code",
   "execution_count": null,
   "id": "8b456198",
   "metadata": {},
   "outputs": [],
   "source": []
  }
 ],
 "metadata": {
  "@webio": {
   "lastCommId": "266bd8670fe24e5297c28e66ac5463eb",
   "lastKernelId": "c0434f67-d1d3-44e1-aa23-8773a0220ec4"
  },
  "kernelspec": {
   "display_name": "Julia 1.8.0",
   "language": "julia",
   "name": "julia-1.8"
  },
  "language_info": {
   "file_extension": ".jl",
   "mimetype": "application/julia",
   "name": "julia",
   "version": "1.8.0"
  }
 },
 "nbformat": 4,
 "nbformat_minor": 5
}
